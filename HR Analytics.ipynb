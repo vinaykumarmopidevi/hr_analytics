{
 "cells": [
  {
   "cell_type": "markdown",
   "metadata": {},
   "source": [
    "# HR Analytics - Predicting Employee Turnover"
   ]
  },
  {
   "cell_type": "markdown",
   "metadata": {},
   "source": [
    "<div class=\"exercise--assignment exercise--typography\"><h1 class=\"exercise--title\">Finding categorical variables</h1><div class=\"\"><p>Categorical variables are variables that receive a limited number of values that describe a category. They can be of two types:</p>\n",
    "<ul>\n",
    "<li><strong>Ordinal</strong> – variables with two or more categories that <strong>can be ranked or ordered</strong> (e.g. “low”, “medium”, “high”)</li>\n",
    "<li><strong>Nominal</strong> – variables with two or more categories that <strong>do not have an intrinsic order</strong> (e.g. “men”, “women”)</li>\n",
    "</ul>\n",
    "<p>In this exercise, you will find the categorical variables in the dataset. To do that, first of all, you will import the <code>pandas</code> library and read the CSV file called <code>\"turnover.csv\"</code>. Then, after viewing the first 5 rows and learning (visually) that there are non-numeric values in the DataFrame, you will get some information about the types of variables that are available in the dataset.</p></div></div>"
   ]
  },
  {
   "cell_type": "code",
   "execution_count": 1,
   "metadata": {},
   "outputs": [],
   "source": [
    "# Import pandas (as pd) to read the data\n",
    "import pandas as pd\n",
    "\n",
    "# Read \"turnover.csv\" and save it in a DataFrame called data\n",
    "data = pd.read_csv(\"turnover.csv\")\n"
   ]
  },
  {
   "cell_type": "code",
   "execution_count": 2,
   "metadata": {},
   "outputs": [
    {
     "name": "stdout",
     "output_type": "stream",
     "text": [
      "   satisfaction  evaluation  number_of_projects  average_montly_hours  \\\n",
      "0          0.38        0.53                   2                   157   \n",
      "1          0.80        0.86                   5                   262   \n",
      "2          0.11        0.88                   7                   272   \n",
      "3          0.72        0.87                   5                   223   \n",
      "4          0.37        0.52                   2                   159   \n",
      "\n",
      "   time_spend_company  work_accident  churn  promotion department  salary  \n",
      "0                   3              0      1          0      sales     low  \n",
      "1                   6              0      1          0      sales  medium  \n",
      "2                   4              0      1          0      sales  medium  \n",
      "3                   5              0      1          0      sales     low  \n",
      "4                   3              0      1          0      sales     low  \n"
     ]
    }
   ],
   "source": [
    "# Take a quick look to the first 5 rows of data\n",
    "print(data.head())"
   ]
  },
  {
   "cell_type": "code",
   "execution_count": 3,
   "metadata": {},
   "outputs": [
    {
     "name": "stdout",
     "output_type": "stream",
     "text": [
      "<class 'pandas.core.frame.DataFrame'>\n",
      "RangeIndex: 14999 entries, 0 to 14998\n",
      "Data columns (total 10 columns):\n",
      " #   Column                Non-Null Count  Dtype  \n",
      "---  ------                --------------  -----  \n",
      " 0   satisfaction          14999 non-null  float64\n",
      " 1   evaluation            14999 non-null  float64\n",
      " 2   number_of_projects    14999 non-null  int64  \n",
      " 3   average_montly_hours  14999 non-null  int64  \n",
      " 4   time_spend_company    14999 non-null  int64  \n",
      " 5   work_accident         14999 non-null  int64  \n",
      " 6   churn                 14999 non-null  int64  \n",
      " 7   promotion             14999 non-null  int64  \n",
      " 8   department            14999 non-null  object \n",
      " 9   salary                14999 non-null  object \n",
      "dtypes: float64(2), int64(6), object(2)\n",
      "memory usage: 1.1+ MB\n"
     ]
    }
   ],
   "source": [
    "# Get some information on the types of variables in data\n",
    "data.info()"
   ]
  },
  {
   "cell_type": "markdown",
   "metadata": {},
   "source": [
    "<p class=\"\">You have two columns of type <code>object</code>, <code>department</code> and <code>salary</code>, which are actually categorical. Let’s explore these in more details.</p>"
   ]
  },
  {
   "cell_type": "markdown",
   "metadata": {},
   "source": [
    "<div class=\"exercise--assignment exercise--typography\"><h1 class=\"exercise--title\">Observing categoricals</h1><div class=\"\"><p>Remember from the previous step that:</p>\n",
    "<ul>\n",
    "<li><strong>Ordinal</strong> variables have two or more categories which <strong>can be ranked or ordered</strong></li>\n",
    "<li><strong>Nominal</strong> variables have two or more categories which <strong>do not have an intrinsic order</strong></li>\n",
    "</ul>\n",
    "<p>In your dataset:</p>\n",
    "<ul>\n",
    "<li><code>salary</code> is an ordinal variable</li>\n",
    "<li><code>department</code> is a nominal variable</li>\n",
    "</ul>\n",
    "<p>In this exercise, you're going to observe the categorical variables found in the previous exercise. To do that, first of all, you will import the <code>pandas</code> library and read the CSV file called <code>\"turnover.csv\"</code>. Then, you will print the unique values of those variables.</p></div></div>"
   ]
  },
  {
   "cell_type": "code",
   "execution_count": 4,
   "metadata": {},
   "outputs": [
    {
     "name": "stdout",
     "output_type": "stream",
     "text": [
      "['sales' 'accounting' 'hr' 'technical' 'support' 'management' 'IT'\n",
      " 'product_mng' 'marketing' 'RandD']\n"
     ]
    }
   ],
   "source": [
    "# Print the unique values of the \"department\" column\n",
    "print(data.department .unique())"
   ]
  },
  {
   "cell_type": "code",
   "execution_count": 5,
   "metadata": {},
   "outputs": [
    {
     "name": "stdout",
     "output_type": "stream",
     "text": [
      "['low' 'medium' 'high']\n"
     ]
    }
   ],
   "source": [
    "# Print the unique values of the \"salary\" column\n",
    "print(data.salary.unique())"
   ]
  },
  {
   "cell_type": "markdown",
   "metadata": {},
   "source": [
    "<p class=\"\">As you can see, <code>['low' 'medium' 'high']</code> is ordered, but <code>['sales' 'accounting' 'hr' 'technical' 'support' 'management' 'IT' 'product_mng' 'marketing' 'RandD']</code> isn't.</p>"
   ]
  },
  {
   "cell_type": "markdown",
   "metadata": {},
   "source": [
    "<div class=\"exercise--assignment exercise--typography\"><h1 class=\"exercise--title\">Encoding categories</h1><div class=\"\"><p>You need to help your algorithm understand that you're dealing with categories. You will encode categories of the <code>salary</code> variable, which you know is ordinal based on the values you observed:</p>\n",
    "<ul>\n",
    "<li>you first have to tell Python that the <code>salary</code> column is actually categorical</li>\n",
    "<li>you then have to specify the correct order of categories </li>\n",
    "<li>finally, you should encode each category with a numeric value corresponding to its specific position in the order</li>\n",
    "</ul></div></div>"
   ]
  },
  {
   "cell_type": "code",
   "execution_count": 6,
   "metadata": {},
   "outputs": [],
   "source": [
    "# Change the type of the \"salary\" column to categorical\n",
    "data.salary = data.salary.astype('category')\n",
    "\n",
    "# Provide the correct order of categories\n",
    "data.salary = data.salary.cat.reorder_categories(['low', 'medium', 'high'])\n",
    "\n",
    "# Encode categories\n",
    "data.salary = data.salary.cat.codes"
   ]
  },
  {
   "cell_type": "markdown",
   "metadata": {},
   "source": [
    "<p class=\"\">Nicely done! Our <code>salary</code> column is now encoded as an ordered category, and optimized for our prediction algorithm.</p>"
   ]
  },
  {
   "cell_type": "markdown",
   "metadata": {},
   "source": [
    "<div class=\"exercise--assignment exercise--typography\"><h1 class=\"exercise--title\">Getting dummies</h1><div class=\"\"><p>You will now transform the <code>department</code> variable, which you know is nominal based on the values you observed. To do that, you will use so-called <strong>dummy variables</strong>.</p></div></div>"
   ]
  },
  {
   "cell_type": "code",
   "execution_count": 7,
   "metadata": {},
   "outputs": [
    {
     "name": "stdout",
     "output_type": "stream",
     "text": [
      "   IT  RandD  accounting  hr  management  marketing  product_mng  sales  \\\n",
      "0   0      0           0   0           0          0            0      1   \n",
      "1   0      0           0   0           0          0            0      1   \n",
      "2   0      0           0   0           0          0            0      1   \n",
      "3   0      0           0   0           0          0            0      1   \n",
      "4   0      0           0   0           0          0            0      1   \n",
      "\n",
      "   support  technical  \n",
      "0        0          0  \n",
      "1        0          0  \n",
      "2        0          0  \n",
      "3        0          0  \n",
      "4        0          0  \n"
     ]
    }
   ],
   "source": [
    "# Get dummies and save them inside a new DataFrame\n",
    "departments = pd.get_dummies(data.department)\n",
    "\n",
    "# Take a quick look to the first 5 rows of the new DataFrame called departments\n",
    "print(departments.head())"
   ]
  },
  {
   "cell_type": "markdown",
   "metadata": {},
   "source": [
    "<p class=\"\">There are 10 departments in the dataset, so you now get 10 columns. The first five rows in your dataset refer to people working in the sales department, so you get values equal to 1 in the <code>department</code> column, and values equal to 0 in the others.</p>"
   ]
  },
  {
   "cell_type": "markdown",
   "metadata": {},
   "source": [
    "<div class=\"exercise--assignment exercise--typography\"><h1 class=\"exercise--title\">Dummy trap</h1><div class=\"\"><p>A dummy trap is a situation where different dummy variables convey the same information. In this case, if an employee is, say, from the accounting department (i.e. value in the <code>accounting</code> column is 1), then you're certain that s/he is not from any other department (values everywhere else are 0). \n",
    "Thus, you could actually learn about his/her department by looking at all the other departments.</p>\n",
    "<p>For that reason, whenever <span class=\"MathJax_Preview\" style=\"color: inherit; display: none;\"></span><span class=\"MathJax\" id=\"MathJax-Element-1-Frame\" tabindex=\"0\" data-mathml=\"<math xmlns=&quot;http://www.w3.org/1998/Math/MathML&quot;><mi>n</mi></math>\" role=\"presentation\" style=\"position: relative;\"><nobr aria-hidden=\"true\"><span class=\"math\" id=\"MathJax-Span-1\" style=\"width: 0.697em; display: inline-block;\"><span style=\"display: inline-block; position: relative; width: 0.59em; height: 0px; font-size: 117%;\"><span style=\"position: absolute; clip: rect(1.605em, 1000.59em, 2.353em, -999.997em); top: -2.188em; left: 0em;\"><span class=\"mrow\" id=\"MathJax-Span-2\"><span class=\"mi\" id=\"MathJax-Span-3\" style=\"font-family: MathJax_Math-italic;\">n</span></span><span style=\"display: inline-block; width: 0px; height: 2.193em;\"></span></span></span><span style=\"display: inline-block; overflow: hidden; vertical-align: -0.059em; border-left: 0px solid; width: 0px; height: 0.628em;\"></span></span></nobr><span class=\"MJX_Assistive_MathML\" role=\"presentation\"><math xmlns=\"http://www.w3.org/1998/Math/MathML\"><mi>n</mi></math></span></span><script type=\"math/tex\" id=\"MathJax-Element-1\">n</script> dummies are created (in your case, 10), only <span class=\"MathJax_Preview\" style=\"color: inherit; display: none;\"></span><span class=\"MathJax\" id=\"MathJax-Element-2-Frame\" tabindex=\"0\" data-mathml=\"<math xmlns=&quot;http://www.w3.org/1998/Math/MathML&quot;><mi>n</mi></math>\" role=\"presentation\" style=\"position: relative;\"><nobr aria-hidden=\"true\"><span class=\"math\" id=\"MathJax-Span-4\" style=\"width: 0.697em; display: inline-block;\"><span style=\"display: inline-block; position: relative; width: 0.59em; height: 0px; font-size: 117%;\"><span style=\"position: absolute; clip: rect(1.605em, 1000.59em, 2.353em, -999.997em); top: -2.188em; left: 0em;\"><span class=\"mrow\" id=\"MathJax-Span-5\"><span class=\"mi\" id=\"MathJax-Span-6\" style=\"font-family: MathJax_Math-italic;\">n</span></span><span style=\"display: inline-block; width: 0px; height: 2.193em;\"></span></span></span><span style=\"display: inline-block; overflow: hidden; vertical-align: -0.059em; border-left: 0px solid; width: 0px; height: 0.628em;\"></span></span></nobr><span class=\"MJX_Assistive_MathML\" role=\"presentation\"><math xmlns=\"http://www.w3.org/1998/Math/MathML\"><mi>n</mi></math></span></span><script type=\"math/tex\" id=\"MathJax-Element-2\">n</script> - 1 (in your case, 9) of them are enough, and the <span class=\"MathJax_Preview\" style=\"color: inherit; display: none;\"></span><span class=\"MathJax\" id=\"MathJax-Element-3-Frame\" tabindex=\"0\" data-mathml=\"<math xmlns=&quot;http://www.w3.org/1998/Math/MathML&quot;><mi>n</mi></math>\" role=\"presentation\" style=\"position: relative;\"><nobr aria-hidden=\"true\"><span class=\"math\" id=\"MathJax-Span-7\" style=\"width: 0.697em; display: inline-block;\"><span style=\"display: inline-block; position: relative; width: 0.59em; height: 0px; font-size: 117%;\"><span style=\"position: absolute; clip: rect(1.605em, 1000.59em, 2.353em, -999.997em); top: -2.188em; left: 0em;\"><span class=\"mrow\" id=\"MathJax-Span-8\"><span class=\"mi\" id=\"MathJax-Span-9\" style=\"font-family: MathJax_Math-italic;\">n</span></span><span style=\"display: inline-block; width: 0px; height: 2.193em;\"></span></span></span><span style=\"display: inline-block; overflow: hidden; vertical-align: -0.059em; border-left: 0px solid; width: 0px; height: 0.628em;\"></span></span></nobr><span class=\"MJX_Assistive_MathML\" role=\"presentation\"><math xmlns=\"http://www.w3.org/1998/Math/MathML\"><mi>n</mi></math></span></span><script type=\"math/tex\" id=\"MathJax-Element-3\">n</script>-th column's information is already included.</p>\n",
    "<p>Therefore, you will get rid of the old department column, drop one of the department dummies to avoid dummy trap, and then the two DataFrames.</p></div></div>"
   ]
  },
  {
   "cell_type": "code",
   "execution_count": 8,
   "metadata": {},
   "outputs": [],
   "source": [
    "# Drop the \"accounting\" column to avoid \"dummy trap\"\n",
    "departments = departments.drop(\"accounting\", axis=1)\n",
    "\n",
    "# Drop the old column \"department\" as you don't need it anymore\n",
    "data = data.drop(\"department\", axis=1)\n",
    "\n",
    "# Join the new dataframe \"departments\" to your employee dataset: done\n",
    "data = data.join(departments)"
   ]
  },
  {
   "cell_type": "code",
   "execution_count": 9,
   "metadata": {},
   "outputs": [
    {
     "data": {
      "text/html": [
       "<div>\n",
       "<style scoped>\n",
       "    .dataframe tbody tr th:only-of-type {\n",
       "        vertical-align: middle;\n",
       "    }\n",
       "\n",
       "    .dataframe tbody tr th {\n",
       "        vertical-align: top;\n",
       "    }\n",
       "\n",
       "    .dataframe thead th {\n",
       "        text-align: right;\n",
       "    }\n",
       "</style>\n",
       "<table border=\"1\" class=\"dataframe\">\n",
       "  <thead>\n",
       "    <tr style=\"text-align: right;\">\n",
       "      <th></th>\n",
       "      <th>satisfaction</th>\n",
       "      <th>evaluation</th>\n",
       "      <th>number_of_projects</th>\n",
       "      <th>average_montly_hours</th>\n",
       "      <th>time_spend_company</th>\n",
       "      <th>work_accident</th>\n",
       "      <th>churn</th>\n",
       "      <th>promotion</th>\n",
       "      <th>salary</th>\n",
       "      <th>IT</th>\n",
       "      <th>RandD</th>\n",
       "      <th>hr</th>\n",
       "      <th>management</th>\n",
       "      <th>marketing</th>\n",
       "      <th>product_mng</th>\n",
       "      <th>sales</th>\n",
       "      <th>support</th>\n",
       "      <th>technical</th>\n",
       "    </tr>\n",
       "  </thead>\n",
       "  <tbody>\n",
       "    <tr>\n",
       "      <th>0</th>\n",
       "      <td>0.38</td>\n",
       "      <td>0.53</td>\n",
       "      <td>2</td>\n",
       "      <td>157</td>\n",
       "      <td>3</td>\n",
       "      <td>0</td>\n",
       "      <td>1</td>\n",
       "      <td>0</td>\n",
       "      <td>0</td>\n",
       "      <td>0</td>\n",
       "      <td>0</td>\n",
       "      <td>0</td>\n",
       "      <td>0</td>\n",
       "      <td>0</td>\n",
       "      <td>0</td>\n",
       "      <td>1</td>\n",
       "      <td>0</td>\n",
       "      <td>0</td>\n",
       "    </tr>\n",
       "    <tr>\n",
       "      <th>1</th>\n",
       "      <td>0.80</td>\n",
       "      <td>0.86</td>\n",
       "      <td>5</td>\n",
       "      <td>262</td>\n",
       "      <td>6</td>\n",
       "      <td>0</td>\n",
       "      <td>1</td>\n",
       "      <td>0</td>\n",
       "      <td>1</td>\n",
       "      <td>0</td>\n",
       "      <td>0</td>\n",
       "      <td>0</td>\n",
       "      <td>0</td>\n",
       "      <td>0</td>\n",
       "      <td>0</td>\n",
       "      <td>1</td>\n",
       "      <td>0</td>\n",
       "      <td>0</td>\n",
       "    </tr>\n",
       "    <tr>\n",
       "      <th>2</th>\n",
       "      <td>0.11</td>\n",
       "      <td>0.88</td>\n",
       "      <td>7</td>\n",
       "      <td>272</td>\n",
       "      <td>4</td>\n",
       "      <td>0</td>\n",
       "      <td>1</td>\n",
       "      <td>0</td>\n",
       "      <td>1</td>\n",
       "      <td>0</td>\n",
       "      <td>0</td>\n",
       "      <td>0</td>\n",
       "      <td>0</td>\n",
       "      <td>0</td>\n",
       "      <td>0</td>\n",
       "      <td>1</td>\n",
       "      <td>0</td>\n",
       "      <td>0</td>\n",
       "    </tr>\n",
       "    <tr>\n",
       "      <th>3</th>\n",
       "      <td>0.72</td>\n",
       "      <td>0.87</td>\n",
       "      <td>5</td>\n",
       "      <td>223</td>\n",
       "      <td>5</td>\n",
       "      <td>0</td>\n",
       "      <td>1</td>\n",
       "      <td>0</td>\n",
       "      <td>0</td>\n",
       "      <td>0</td>\n",
       "      <td>0</td>\n",
       "      <td>0</td>\n",
       "      <td>0</td>\n",
       "      <td>0</td>\n",
       "      <td>0</td>\n",
       "      <td>1</td>\n",
       "      <td>0</td>\n",
       "      <td>0</td>\n",
       "    </tr>\n",
       "    <tr>\n",
       "      <th>4</th>\n",
       "      <td>0.37</td>\n",
       "      <td>0.52</td>\n",
       "      <td>2</td>\n",
       "      <td>159</td>\n",
       "      <td>3</td>\n",
       "      <td>0</td>\n",
       "      <td>1</td>\n",
       "      <td>0</td>\n",
       "      <td>0</td>\n",
       "      <td>0</td>\n",
       "      <td>0</td>\n",
       "      <td>0</td>\n",
       "      <td>0</td>\n",
       "      <td>0</td>\n",
       "      <td>0</td>\n",
       "      <td>1</td>\n",
       "      <td>0</td>\n",
       "      <td>0</td>\n",
       "    </tr>\n",
       "  </tbody>\n",
       "</table>\n",
       "</div>"
      ],
      "text/plain": [
       "   satisfaction  evaluation  number_of_projects  average_montly_hours  \\\n",
       "0          0.38        0.53                   2                   157   \n",
       "1          0.80        0.86                   5                   262   \n",
       "2          0.11        0.88                   7                   272   \n",
       "3          0.72        0.87                   5                   223   \n",
       "4          0.37        0.52                   2                   159   \n",
       "\n",
       "   time_spend_company  work_accident  churn  promotion  salary  IT  RandD  hr  \\\n",
       "0                   3              0      1          0       0   0      0   0   \n",
       "1                   6              0      1          0       1   0      0   0   \n",
       "2                   4              0      1          0       1   0      0   0   \n",
       "3                   5              0      1          0       0   0      0   0   \n",
       "4                   3              0      1          0       0   0      0   0   \n",
       "\n",
       "   management  marketing  product_mng  sales  support  technical  \n",
       "0           0          0            0      1        0          0  \n",
       "1           0          0            0      1        0          0  \n",
       "2           0          0            0      1        0          0  \n",
       "3           0          0            0      1        0          0  \n",
       "4           0          0            0      1        0          0  "
      ]
     },
     "execution_count": 9,
     "metadata": {},
     "output_type": "execute_result"
    }
   ],
   "source": [
    "data.head()"
   ]
  },
  {
   "cell_type": "markdown",
   "metadata": {},
   "source": [
    "<p class=\"\">Notice that in the new <code>data</code> DataFrame, the <code>department</code> column has disappeared, being replaced by a column for each department except <code>accounting</code>.</p>"
   ]
  },
  {
   "cell_type": "markdown",
   "metadata": {},
   "source": [
    "<p class=\"\">There is a negative correlation between employee <code>satisfaction</code> and <code>churn</code>. A negative correlation doesn’t mean the correlation between both variables is weak, it means that they are <strong>inversely correlated</strong> (and in this case, strongly inversely correlated).</p>"
   ]
  },
  {
   "cell_type": "markdown",
   "metadata": {},
   "source": [
    "<div class=\"exercise--assignment exercise--typography\"><h1 class=\"exercise--title\">Percentage of employees who churn</h1><div class=\"\"><p>The column <code>churn</code> is providing information about whether an employee has left the company or not is the column <code>churn</code>:</p>\n",
    "<ul>\n",
    "<li>if the value of this column is <strong>0</strong>,  the employee is <strong>still with the company</strong></li>\n",
    "<li>if the value of this column is <strong>1</strong>, then the employee has <strong>left the company</strong></li>\n",
    "</ul>\n",
    "<p>Let’s calculate the turnover rate:</p>\n",
    "<ul>\n",
    "<li>you will first count the number of times the variable <code>churn</code> has the value 1 and the value 0, respectively</li>\n",
    "<li>you will then divide both counts by the total, and multiply the result by 100 to get the percentage of employees who left and stayed</li>\n",
    "</ul></div></div>"
   ]
  },
  {
   "cell_type": "code",
   "execution_count": 10,
   "metadata": {},
   "outputs": [
    {
     "name": "stdout",
     "output_type": "stream",
     "text": [
      "0    11428\n",
      "1     3571\n",
      "Name: churn, dtype: int64\n",
      "0    76.191746\n",
      "1    23.808254\n",
      "Name: churn, dtype: float64\n"
     ]
    }
   ],
   "source": [
    "# Get the total number of observations and save it as the number of employees\n",
    "n_employees = len(data)\n",
    "\n",
    "# Print the number of employees who left/stayed\n",
    "print(data.churn.value_counts())\n",
    "\n",
    "# Print the percentage of employees who left/stayed\n",
    "print(data.churn.value_counts()/n_employees*100)"
   ]
  },
  {
   "cell_type": "markdown",
   "metadata": {},
   "source": [
    "<p class=\"\">As you can see, <strong>11,428</strong> employees stayed, which accounts for about <strong>76%</strong> of the total employee count. Similarly, <strong>3,571</strong> employees left, which accounts for about <strong>24%</strong> of them.</p>"
   ]
  },
  {
   "cell_type": "markdown",
   "metadata": {},
   "source": [
    "<div class=\"exercise--assignment exercise--typography\"><h1 class=\"exercise--title\">Separating Target and Features</h1><div class=\"\"><p>In order to make a prediction (in this case, whether an employee would leave or not), one needs to separate the dataset into two components:</p>\n",
    "<ul>\n",
    "<li>the <strong>dependent</strong> variable or <strong>target</strong> which needs to be predicted</li>\n",
    "<li>the <strong>independent</strong> variables or <strong>features</strong> that will be used to make a prediction</li>\n",
    "</ul>\n",
    "<p>Your task is to separate the <code>target</code> and <code>features</code>. The target you have here is the employee churn, and features include everything else.</p>\n",
    "<p>Reminder: the dataset has already been modified by encoding categorical variables and getting dummies.</p>\n",
    "<p><code>pandas</code> has been imported for you as <code>pd</code>.</p></div></div>"
   ]
  },
  {
   "cell_type": "code",
   "execution_count": 11,
   "metadata": {},
   "outputs": [],
   "source": [
    "# Set the target and features\n",
    "\n",
    "# Choose the dependent variable column (churn) and set it as target\n",
    "target = data.churn\n",
    "\n",
    "# Drop column churn and set everything else as features\n",
    "features = data.drop(\"churn\",axis=1)"
   ]
  },
  {
   "cell_type": "markdown",
   "metadata": {},
   "source": [
    "<p class=\"\">Now target and features are separated!</p>"
   ]
  },
  {
   "cell_type": "markdown",
   "metadata": {},
   "source": [
    "<div class=\"exercise--assignment exercise--typography\"><h1 class=\"exercise--title\">Spliting employee data</h1><div class=\"\"><p>Overfitting the dataset is a common problem in analytics. This happens when a model is working well on the dataset it was developed upon, but fails to generalize outside of it.</p>\n",
    "<p>A train/test split is implemented to ensure model generalization: you develop the model using the training sample and try it out on the test sample later on.</p>\n",
    "<p>In this exercise, you will split both <code>target</code> and <code>features</code> into train and test sets with 75%/25% ratio, respectively.</p></div></div>"
   ]
  },
  {
   "cell_type": "code",
   "execution_count": 12,
   "metadata": {},
   "outputs": [],
   "source": [
    "# Import the function for splitting dataset into train and test\n",
    "from sklearn.model_selection import train_test_split\n",
    "\n",
    "# Use that function to create the splits both for target and for features\n",
    "# Set the test sample to be 25% of your observations\n",
    "target_train, target_test, features_train, features_test = train_test_split(target,features,test_size=0.25,random_state=42)"
   ]
  },
  {
   "cell_type": "markdown",
   "metadata": {},
   "source": [
    "<p class=\"\">You’ve set aside 25% of your data to evaluate your model performance after training.</p>"
   ]
  },
  {
   "cell_type": "markdown",
   "metadata": {},
   "source": [
    "<div class=\"exercise--assignment exercise--typography\"><h1 class=\"exercise--title\">Computing Gini index</h1><div class=\"\"><p>The decision tree algorithm aims to achieve partitions in the terminal nodes that are as pure as possible. The Gini index is one of the methods used to achieve this. It is calculated based on the proportion of samples in each group.</p>\n",
    "<p>Given the number of people who stayed and left respectively, calculate the Gini index for that node.</p></div></div>"
   ]
  },
  {
   "cell_type": "code",
   "execution_count": 13,
   "metadata": {},
   "outputs": [],
   "source": [
    "#number of people who stayed/left\n",
    "stayed = 37\n",
    "left = 1138\n",
    "\n",
    "#sum of stayed and left\n",
    "total = stayed + left\n",
    "\n",
    "#gini index\n",
    "gini = 2*(stayed/total)*(left/total)"
   ]
  },
  {
   "cell_type": "markdown",
   "metadata": {},
   "source": [
    "<div class=\"exercise--assignment exercise--typography\"><h1 class=\"exercise--title\">Splitting the tree</h1><div class=\"\"><p>Given the Gini index that would result from splitting by either variable A or B, respectively, decide by which variable the tree should split next.</p></div></div>"
   ]
  },
  {
   "cell_type": "code",
   "execution_count": 14,
   "metadata": {},
   "outputs": [
    {
     "name": "stdout",
     "output_type": "stream",
     "text": [
      "split by B!\n"
     ]
    }
   ],
   "source": [
    "# Gini index in case of splitting by variable A or B\n",
    "gini_A = 0.65\n",
    "gini_B = 0.15\n",
    "\n",
    "# check which Gini is lower and use it for splitting\n",
    "if gini_A < gini_B:\n",
    "    print(\"split by A!\")\n",
    "else:\n",
    "    print(\"split by B!\")"
   ]
  },
  {
   "cell_type": "markdown",
   "metadata": {},
   "source": [
    "<div class=\"exercise--assignment exercise--typography\"><h1 class=\"exercise--title\">Fitting the tree to employee data</h1><div class=\"\"><p>A train/test split provides the opportunity to develop the classifier on the training component and test it on the rest of the dataset. In this exercise, you will start developing an employee turnover prediction model using the <strong>decision tree</strong> classification algorithm. The algorithm provides a <code>.fit()</code> method, which can be used to fit the features to the model in the training set.</p>\n",
    "<p><em>Reminder: both target and features are already split into train and test components (Train: <code>features_train</code>, <code>target_train</code>, Test: <code>features_test</code>, <code>target_test</code>)</em></p></div></div>"
   ]
  },
  {
   "cell_type": "code",
   "execution_count": 15,
   "metadata": {},
   "outputs": [
    {
     "data": {
      "text/plain": [
       "DecisionTreeClassifier(random_state=42)"
      ]
     },
     "execution_count": 15,
     "metadata": {},
     "output_type": "execute_result"
    }
   ],
   "source": [
    "# Import the classification algorithm\n",
    "from sklearn.tree import DecisionTreeClassifier\n",
    "\n",
    "# Initialize it and call model by specifying the random_state parameter\n",
    "model = DecisionTreeClassifier(random_state=42)\n",
    "\n",
    "# Apply a decision tree model to fit features to the target\n",
    "model.fit(features_train, target_train)"
   ]
  },
  {
   "cell_type": "markdown",
   "metadata": {},
   "source": [
    "<p class=\"\">Your Decision Tree has learnt from the training data. Let’s now see how it performs on predictions!</p>"
   ]
  },
  {
   "cell_type": "markdown",
   "metadata": {},
   "source": [
    "<div class=\"exercise--assignment exercise--typography\"><h1 class=\"exercise--title\">Checking the accuracy of prediction</h1><div class=\"\"><p>It’s now time to check how well your trained model can make predictions! Let’s use your testing set to check the accuracy of your Decision Tree <code>model</code>, with the <code>score()</code> method.</p></div></div>"
   ]
  },
  {
   "cell_type": "code",
   "execution_count": 16,
   "metadata": {},
   "outputs": [
    {
     "data": {
      "text/plain": [
       "97.22666666666666"
      ]
     },
     "execution_count": 16,
     "metadata": {},
     "output_type": "execute_result"
    }
   ],
   "source": [
    "# Apply a decision tree model to fit features to the target in the training set\n",
    "model.fit(features_train,target_train)\n",
    "\n",
    "# Check the accuracy score of the prediction for the training set\n",
    "model.score(features_train,target_train)*100\n",
    "\n",
    "# Check the accuracy score of the prediction for the test set\n",
    "model.score(features_test,target_test)*100"
   ]
  },
  {
   "cell_type": "markdown",
   "metadata": {},
   "source": [
    "<p class=\"\">Decision Tree algorithm did perfectly on the training set. On the testing set, it was able to correctly predict if an employee would leave or not in almost 98% of the cases!</p>"
   ]
  },
  {
   "cell_type": "markdown",
   "metadata": {},
   "source": [
    "<div class=\"exercise--assignment exercise--typography\"><h1 class=\"exercise--title\">Exporting the tree</h1><div class=\"\"><p>In Decision Tree classification tasks, overfitting is usually the result of deeply grown trees. As the comparison of accuracy scores on the train and test sets shows, you have overfitting in your results. This can also be learned from the tree visualization.</p>\n",
    "<p>In this exercise, you will export the decision tree into a text document, which can then be used for visualization.</p></div></div>"
   ]
  },
  {
   "cell_type": "code",
   "execution_count": 17,
   "metadata": {},
   "outputs": [],
   "source": [
    "# Import the tree graphical visualization export function\n",
    "from sklearn.tree import export_graphviz\n",
    "\n",
    "# Apply Decision Tree model to fit Features to the Target\n",
    "model.fit(features_train,target_train)\n",
    "\n",
    "# Export the tree to a dot file\n",
    "export_graphviz(model,\"tree.dot\")"
   ]
  },
  {
   "cell_type": "markdown",
   "metadata": {},
   "source": [
    "<p class=\"\">Now you can copy the content of tree.dot file and preview it in webgraphviz.com!</p>\n",
    "<img src=\"tree_graph.png\" alt=\"tree\">\n",
    "<div class=\"\">According to the graph, when <code>average_monthly_hours</code> is less than or equal to 125, complete purity is achieved.</div>\n",
    "<p class=\"\">if <code>average_monthly_hours</code> are less than or equal to 125, the tree splits one last time and stops growing.</p>"
   ]
  },
  {
   "cell_type": "markdown",
   "metadata": {},
   "source": [
    "<div class=\"exercise--assignment exercise--typography\"><h1 class=\"exercise--title\">Pruning the tree</h1><div class=\"\"><p>Overfitting is a classic problem in analytics, especially for the decision tree algorithm. Once the tree is fully grown, it may provide highly accurate predictions for the training sample, yet fail to be that accurate on the test set. For that reason, the growth of the decision tree is usually controlled by:</p>\n",
    "<ul>\n",
    "<li>“Pruning” the tree and setting a limit on the maximum depth it can have.</li>\n",
    "<li>Limiting the minimum number of observations in one leaf of the tree.</li>\n",
    "</ul>\n",
    "<p>In this exercise, you will:</p>\n",
    "<ul>\n",
    "<li>prune the tree and limit the growth of the tree to 5 levels of depth</li>\n",
    "<li>fit it to the employee data</li>\n",
    "<li>test prediction results on both training and testing sets.</li>\n",
    "</ul>\n",
    "<p>The variables <code>features_train</code>, <code>target_train</code>, <code>features_test</code> and <code>target_test</code> are already available in your workspace.</p></div></div>"
   ]
  },
  {
   "cell_type": "code",
   "execution_count": 18,
   "metadata": {},
   "outputs": [
    {
     "name": "stdout",
     "output_type": "stream",
     "text": [
      "97.71535247577563\n",
      "97.06666666666666\n"
     ]
    }
   ],
   "source": [
    "# Initialize the DecisionTreeClassifier while limiting the depth of the tree to 5\n",
    "model_depth_5 = DecisionTreeClassifier(max_depth=5, random_state=42)\n",
    "\n",
    "# Fit and print the model\n",
    "model_depth_5.fit(features_train,target_train)\n",
    "\n",
    "# Print the accuracy of the prediction for the training set\n",
    "print(model_depth_5.score(features_train,target_train)*100)\n",
    "\n",
    "# Print the accuracy of the prediction for the test set\n",
    "print(model_depth_5.score(features_test,target_test)*100)"
   ]
  },
  {
   "cell_type": "markdown",
   "metadata": {},
   "source": [
    "<p class=\"\">Now you have a more reasonable model!</p>"
   ]
  },
  {
   "cell_type": "markdown",
   "metadata": {},
   "source": [
    "<div class=\"exercise--assignment exercise--typography\"><h1 class=\"exercise--title\">Limiting the sample size</h1><div class=\"\"><p>Another method to prevent overfitting is to specify the minimum number of observations necessary to grow a leaf (or node), in the Decision Tree.</p>\n",
    "<p>In this exercise, you will:</p>\n",
    "<ul>\n",
    "<li>set this minimum limit to 100</li>\n",
    "<li>fit the new model to the employee data</li>\n",
    "<li>examine prediction results on both training and test sets</li>\n",
    "</ul>\n",
    "<p>The variables <code>features_train</code>, <code>target_train</code>, <code>features_test</code> and <code>target_test</code> are already available in your workspace.</p></div></div>"
   ]
  },
  {
   "cell_type": "code",
   "execution_count": 19,
   "metadata": {},
   "outputs": [
    {
     "name": "stdout",
     "output_type": "stream",
     "text": [
      "96.57747355320473\n",
      "96.13333333333334\n"
     ]
    }
   ],
   "source": [
    "# Initialize the DecisionTreeClassifier while limiting the sample size in leaves to 100\n",
    "model_sample_100 = DecisionTreeClassifier(min_samples_leaf=100, random_state=42)\n",
    "\n",
    "# Fit the model\n",
    "model_sample_100.fit(features_train,target_train)\n",
    "\n",
    "# Print the accuracy of the prediction (in percentage points) for the training set\n",
    "print(model_sample_100.score(features_train,target_train)*100)\n",
    "\n",
    "# Print the accuracy of the prediction (in percentage points) for the test set\n",
    "print(model_sample_100.score(features_test,target_test)*100)"
   ]
  },
  {
   "cell_type": "markdown",
   "metadata": {},
   "source": [
    "<p class=\"\">Now you have another reasonable model!</p>"
   ]
  },
  {
   "cell_type": "markdown",
   "metadata": {},
   "source": [
    "<div class=\"exercise--assignment exercise--typography\"><h1 class=\"exercise--title\">Calculating accuracy metrics: precision</h1><div class=\"\"><p>The Precision score is an important metric used to measure the accuracy of a classification algorithm. It is calculated as the <strong>fraction of True Positives over the sum of True Positives and False Positives</strong>, or\n",
    "<span class=\"MathJax_Preview\" style=\"color: inherit; display: none;\"></span><div class=\"MathJax_Display\" style=\"text-align: center;\"><span class=\"MathJax\" id=\"MathJax-Element-6-Frame\" tabindex=\"0\" style=\"text-align: center; position: relative;\" data-mathml=\"<math xmlns=&quot;http://www.w3.org/1998/Math/MathML&quot; display=&quot;block&quot;><mfrac><mtext># of True Positives</mtext><mrow><mtext># of True Positives</mtext><mo>+</mo><mtext># of False Positives</mtext></mrow></mfrac><mo>.</mo></math>\" role=\"presentation\"><nobr aria-hidden=\"true\"><span class=\"math\" id=\"MathJax-Span-46\" style=\"width: 21.958em; display: inline-block;\"><span style=\"display: inline-block; position: relative; width: 18.753em; height: 0px; font-size: 117%;\"><span style=\"position: absolute; clip: rect(0.697em, 1018.7em, 3.261em, -999.997em); top: -2.241em; left: 0em;\"><span class=\"mrow\" id=\"MathJax-Span-47\"><span class=\"mfrac\" id=\"MathJax-Span-48\"><span style=\"display: inline-block; position: relative; width: 18.272em; height: 0px; margin-right: 0.11em; margin-left: 0.11em;\"><span style=\"position: absolute; clip: rect(3.154em, 1008.34em, 4.383em, -999.997em); top: -4.698em; left: 50%; margin-left: -4.217em;\"><span class=\"mtext\" id=\"MathJax-Span-49\" style=\"font-family: MathJax_Main;\"># of True Positives</span><span style=\"display: inline-block; width: 0px; height: 4.009em;\"></span></span><span style=\"position: absolute; clip: rect(3.154em, 1018.11em, 4.383em, -999.997em); top: -3.309em; left: 50%; margin-left: -9.079em;\"><span class=\"mrow\" id=\"MathJax-Span-50\"><span class=\"mtext\" id=\"MathJax-Span-51\" style=\"font-family: MathJax_Main;\"># of True Positives</span><span class=\"mo\" id=\"MathJax-Span-52\" style=\"font-family: MathJax_Main; padding-left: 0.216em;\">+</span><span class=\"mtext\" id=\"MathJax-Span-53\" style=\"font-family: MathJax_Main; padding-left: 0.216em;\"># of False Positives</span></span><span style=\"display: inline-block; width: 0px; height: 4.009em;\"></span></span><span style=\"position: absolute; clip: rect(0.857em, 1018.27em, 1.231em, -999.997em); top: -1.279em; left: 0em;\"><span style=\"display: inline-block; overflow: hidden; vertical-align: 0em; border-top: 1.3px solid; width: 18.272em; height: 0px;\"></span><span style=\"display: inline-block; width: 0px; height: 1.071em;\"></span></span></span></span><span class=\"mo\" id=\"MathJax-Span-54\" style=\"font-family: MathJax_Main;\">.</span></span><span style=\"display: inline-block; width: 0px; height: 2.246em;\"></span></span></span><span style=\"display: inline-block; overflow: hidden; vertical-align: -1.059em; border-left: 0px solid; width: 0px; height: 2.753em;\"></span></span></nobr><span class=\"MJX_Assistive_MathML MJX_Assistive_MathML_Block\" role=\"presentation\"><math xmlns=\"http://www.w3.org/1998/Math/MathML\" display=\"block\"><mfrac><mtext># of True Positives</mtext><mrow><mtext># of True Positives</mtext><mo>+</mo><mtext># of False Positives</mtext></mrow></mfrac><mo>.</mo></math></span></span></div><script type=\"math/tex; mode=display\" id=\"MathJax-Element-6\">\\frac{\\text{# of True Positives}}{\\text{# of True Positives} + \\text{# of False Positives}}.</script></p>\n",
    "<ul>\n",
    "<li>we define <strong>True Positives</strong> as the number of employees who actually left, and were classified correctly as leaving </li>\n",
    "<li>we define <strong>False Positives</strong> as the number of employees who actually stayed, but were wrongly classified as leaving</li>\n",
    "</ul>\n",
    "<p>If there are no False Positives, the precision score is equal to 1.\n",
    "If there are no True Positives, the recall score is equal to 0.</p>\n",
    "<p>In this exercise, we will calculate the precision score (using the <code>sklearn</code> function <code>precision_score</code>) for our initial classification model.</p>\n",
    "<p>The variables <code>features_test</code> and <code>target_test</code> are available in your workspace.</p></div></div>"
   ]
  },
  {
   "cell_type": "code",
   "execution_count": 20,
   "metadata": {},
   "outputs": [
    {
     "data": {
      "text/plain": [
       "0.9240641711229947"
      ]
     },
     "execution_count": 20,
     "metadata": {},
     "output_type": "execute_result"
    }
   ],
   "source": [
    "# Import the function to calculate precision score\n",
    "from sklearn.metrics import precision_score\n",
    "\n",
    "# Predict whether employees will churn using the test set\n",
    "prediction = model.predict(features_test)\n",
    "\n",
    "# Calculate precision score by comparing target_test with the prediction\n",
    "precision_score(target_test, prediction)"
   ]
  },
  {
   "cell_type": "markdown",
   "metadata": {},
   "source": [
    "<div class=\"exercise--assignment exercise--typography\"><h1 class=\"exercise--title\">Calculating accuracy metrics: recall</h1><div class=\"\"><p>The Recall score is another important metric used to measure the accuracy of a classification algorithm. It is calculated as the** fraction of True Positives over the sum of True Positives and False Negatives**, or\n",
    "<span class=\"MathJax_Preview\" style=\"color: inherit; display: none;\"></span><div class=\"MathJax_Display\" style=\"text-align: center;\"><span class=\"MathJax\" id=\"MathJax-Element-7-Frame\" tabindex=\"0\" style=\"text-align: center; position: relative;\" data-mathml=\"<math xmlns=&quot;http://www.w3.org/1998/Math/MathML&quot; display=&quot;block&quot;><mfrac><mtext># of True Positives</mtext><mrow><mtext># of True Positives</mtext><mo>+</mo><mtext># of False Negatives</mtext></mrow></mfrac><mo>.</mo></math>\" role=\"presentation\"><nobr aria-hidden=\"true\"><span class=\"math\" id=\"MathJax-Span-55\" style=\"width: 22.332em; display: inline-block;\"><span style=\"display: inline-block; position: relative; width: 19.073em; height: 0px; font-size: 117%;\"><span style=\"position: absolute; clip: rect(0.697em, 1019.02em, 3.315em, -999.997em); top: -2.241em; left: 0em;\"><span class=\"mrow\" id=\"MathJax-Span-56\"><span class=\"mfrac\" id=\"MathJax-Span-57\"><span style=\"display: inline-block; position: relative; width: 18.592em; height: 0px; margin-right: 0.11em; margin-left: 0.11em;\"><span style=\"position: absolute; clip: rect(3.154em, 1008.34em, 4.383em, -999.997em); top: -4.698em; left: 50%; margin-left: -4.217em;\"><span class=\"mtext\" id=\"MathJax-Span-58\" style=\"font-family: MathJax_Main;\"># of True Positives</span><span style=\"display: inline-block; width: 0px; height: 4.009em;\"></span></span><span style=\"position: absolute; clip: rect(3.154em, 1018.43em, 4.383em, -999.997em); top: -3.309em; left: 50%; margin-left: -9.239em;\"><span class=\"mrow\" id=\"MathJax-Span-59\"><span class=\"mtext\" id=\"MathJax-Span-60\" style=\"font-family: MathJax_Main;\"># of True Positives</span><span class=\"mo\" id=\"MathJax-Span-61\" style=\"font-family: MathJax_Main; padding-left: 0.216em;\">+</span><span class=\"mtext\" id=\"MathJax-Span-62\" style=\"font-family: MathJax_Main; padding-left: 0.216em;\"># of False Negatives</span></span><span style=\"display: inline-block; width: 0px; height: 4.009em;\"></span></span><span style=\"position: absolute; clip: rect(0.857em, 1018.59em, 1.231em, -999.997em); top: -1.279em; left: 0em;\"><span style=\"display: inline-block; overflow: hidden; vertical-align: 0em; border-top: 1.3px solid; width: 18.592em; height: 0px;\"></span><span style=\"display: inline-block; width: 0px; height: 1.071em;\"></span></span></span></span><span class=\"mo\" id=\"MathJax-Span-63\" style=\"font-family: MathJax_Main;\">.</span></span><span style=\"display: inline-block; width: 0px; height: 2.246em;\"></span></span></span><span style=\"display: inline-block; overflow: hidden; vertical-align: -1.122em; border-left: 0px solid; width: 0px; height: 2.816em;\"></span></span></nobr><span class=\"MJX_Assistive_MathML MJX_Assistive_MathML_Block\" role=\"presentation\"><math xmlns=\"http://www.w3.org/1998/Math/MathML\" display=\"block\"><mfrac><mtext># of True Positives</mtext><mrow><mtext># of True Positives</mtext><mo>+</mo><mtext># of False Negatives</mtext></mrow></mfrac><mo>.</mo></math></span></span></div><script type=\"math/tex; mode=display\" id=\"MathJax-Element-7\">\\frac{\\text{# of True Positives}}{\\text{# of True Positives} + \\text{# of False Negatives}}.</script></p>\n",
    "<p>If there are no False Negatives, the recall score is equal to 1.\n",
    "If there are no True Positives, the recall score is equal to 0.</p>\n",
    "<p>In this exercise, you will calculate the precision score (using the sklearn function <code>recall_score</code>) for your initial classification model.</p>\n",
    "<p>The variables <code>features_test</code> and <code>target_test</code> are available in your workspace.</p></div></div>"
   ]
  },
  {
   "cell_type": "code",
   "execution_count": 21,
   "metadata": {},
   "outputs": [
    {
     "data": {
      "text/plain": [
       "0.9632107023411371"
      ]
     },
     "execution_count": 21,
     "metadata": {},
     "output_type": "execute_result"
    }
   ],
   "source": [
    "# Import the function to calculate recall score\n",
    "from sklearn.metrics import recall_score\n",
    "\n",
    "# Use the initial model to predict churn\n",
    "prediction = model.predict(features_test)\n",
    "\n",
    "# Calculate recall score by comparing target_test with the prediction\n",
    "recall_score(target_test, prediction)"
   ]
  },
  {
   "cell_type": "markdown",
   "metadata": {},
   "source": [
    "<div class=\"exercise--assignment exercise--typography\"><h1 class=\"exercise--title\">Calculating the ROC/AUC score</h1><div class=\"\"><p>While the Recall score is an important metric for measuring the accuracy of a classification algorithm, it puts too much weight on the number of False Negatives. On the other hand, Precision is concentrated on the number of False Positives.</p>\n",
    "<p>The combination of those two results in the ROC curve allows us to measure both recall and precision. The area under the ROC curve is calculated as the AUC score.</p>\n",
    "<p>In this exercise, you will calculate the ROC/AUC score for the initial model using the sklearn <code>roc_auc_score()</code> function.</p>\n",
    "<p>The variables <code>features_test</code> and <code>target_test</code> are available in your workspace.</p></div></div>"
   ]
  },
  {
   "cell_type": "code",
   "execution_count": 22,
   "metadata": {},
   "outputs": [
    {
     "data": {
      "text/plain": [
       "0.9691623087590718"
      ]
     },
     "execution_count": 22,
     "metadata": {},
     "output_type": "execute_result"
    }
   ],
   "source": [
    "# Import the function to calculate ROC/AUC score\n",
    "from sklearn.metrics import roc_auc_score\n",
    "\n",
    "# Use initial model to predict churn (based on features of the test set)\n",
    "prediction = model.predict(features_test)\n",
    "\n",
    "# Calculate ROC/AUC score by comparing target_test with the prediction\n",
    "roc_auc_score(target_test, prediction)"
   ]
  },
  {
   "cell_type": "markdown",
   "metadata": {},
   "source": [
    "<div class=\"exercise--assignment exercise--typography\"><h1 class=\"exercise--title\">Balancing classes</h1><div class=\"\"><p>It can significantly affect prediction results, as shown by the difference between the <code>recall</code> and <code>accuracy</code> scores. To solve the imbalance, equal weights are usually given to each class. Using the <code>class_weight</code> argument in <code>sklearn</code>'s <code>DecisionTreeClassifier</code>, one can make the classes become <code>\"balanced\"</code>.</p>\n",
    "<p>Let’s correct our model by solving its imbalance problem:</p>\n",
    "<ul>\n",
    "<li>first, you’re going to  set up a model with balanced classes</li>\n",
    "<li>then, you will fit it to the training data</li>\n",
    "<li>finally, you will check its accuracy on the test set</li>\n",
    "</ul>\n",
    "<p>The variables <code>features_train</code>, <code>target_train,</code>features<em>test<code>and</code>target</em>test` are already available in your workspace.</p></div></div>"
   ]
  },
  {
   "cell_type": "code",
   "execution_count": 23,
   "metadata": {},
   "outputs": [
    {
     "name": "stdout",
     "output_type": "stream",
     "text": [
      "93.70666666666668\n"
     ]
    }
   ],
   "source": [
    "# Initialize the DecisionTreeClassifier \n",
    "model_depth_5_b = DecisionTreeClassifier(max_depth=5,class_weight=\"balanced\",random_state=42)\n",
    "\n",
    "# Fit the model\n",
    "model_depth_5_b.fit(features_train,target_train)\n",
    "\n",
    "# Print the accuracy of the prediction (in percentage points) for the test set\n",
    "print(model_depth_5_b.score(features_test,target_test)*100)"
   ]
  },
  {
   "cell_type": "markdown",
   "metadata": {},
   "source": [
    "<div class=\"exercise--assignment exercise--typography\"><h1 class=\"exercise--title\">Comparison of Employee attrition models</h1><div class=\"\"><p>In this exercise, your task is to compare the <strong>balanced</strong> and <strong>imbalanced</strong> (default) models using the pruned tree (<code>max_depth=7</code>). The <strong>imbalanced</strong> model is already done using <strong>recall</strong> and <strong>ROC/AUC</strong> scores. Complete the same steps for the <strong>balanced</strong> model.</p>\n",
    "<ul>\n",
    "<li>The variables <code>features_train</code>, <code>target_train</code>, <code>features_test</code> and <code>target_test</code> are already available in your workspace.</li>\n",
    "<li>An imbalanced model has already been fit for you and, and its predictions saved as <code>prediction</code>.</li>\n",
    "<li>The functions <code>recall_score()</code> and <code>roc_auc_score()</code> have been imported for you.</li>\n",
    "</ul></div></div>"
   ]
  },
  {
   "cell_type": "code",
   "execution_count": 24,
   "metadata": {},
   "outputs": [
    {
     "name": "stdout",
     "output_type": "stream",
     "text": [
      "0.9632107023411371\n",
      "0.9691623087590718\n",
      "0.9319955406911928\n",
      "0.959863876199084\n"
     ]
    }
   ],
   "source": [
    "# Print the recall score\n",
    "print(recall_score(target_test,prediction))\n",
    "# Print the ROC/AUC score\n",
    "print(roc_auc_score(target_test,prediction))\n",
    "\n",
    "# Initialize the model\n",
    "model_depth_7_b = DecisionTreeClassifier(max_depth=7,class_weight=\"balanced\",random_state=42)\n",
    "# Fit it to the training component\n",
    "model_depth_7_b.fit(features_train,target_train)\n",
    "# Make prediction using test component\n",
    "prediction_b = model_depth_7_b.predict(features_test)\n",
    "# Print the recall score for the balanced model\n",
    "print(recall_score(target_test,prediction_b))\n",
    "# Print the ROC/AUC score for the balanced model\n",
    "print(roc_auc_score(target_test,prediction_b))"
   ]
  },
  {
   "cell_type": "markdown",
   "metadata": {},
   "source": [
    "<div class=\"exercise--assignment exercise--typography\"><h1 class=\"exercise--title\">Cross-validation using sklearn</h1><div class=\"\"><p>As explained in Chapter 2, overfitting the dataset is a common problem in analytics. This happens when a model has learned the data too closely: it has great performances on the dataset it was trained on, but fails to generalize outside of it.</p>\n",
    "<p>While the train/test split technique you learned in Chapter 2 ensures that the model does not overfit the training set, <strong>hyperparameter tuning</strong> may result in overfitting the test component, since it consists in tuning the model to get the best prediction results on the test set. Therefore, it is recommended to validate the model on different testing sets. K-fold cross-validation allows us to achieve this:</p>\n",
    "<ul>\n",
    "<li>it splits the dataset into a training set and a testing set</li>\n",
    "<li>it fits the model, makes predictions and calculates a score (you can specify if you want the accuracy, precision, recall...)</li>\n",
    "<li>it repeats the process k times in total</li>\n",
    "<li>it outputs the average of the 10 scores</li>\n",
    "</ul>\n",
    "<p>In this exercise, you will use Cross Validation on our dataset, and evaluate our results with the <code>cross_val_score</code> function.</p></div></div>"
   ]
  },
  {
   "cell_type": "code",
   "execution_count": 25,
   "metadata": {},
   "outputs": [
    {
     "name": "stdout",
     "output_type": "stream",
     "text": [
      "[0.98533333 0.98533333 0.974      0.96533333 0.96       0.97933333\n",
      " 0.99       0.99333333 1.         1.        ]\n"
     ]
    }
   ],
   "source": [
    "# Import the function for implementing cross validation\n",
    "from sklearn.model_selection import cross_val_score\n",
    "\n",
    "# Use that function to print the cross validation score for 10 folds\n",
    "print(cross_val_score(model,features,target,cv=10))"
   ]
  },
  {
   "cell_type": "markdown",
   "metadata": {},
   "source": [
    "<div class=\"exercise--assignment exercise--typography\"><h1 class=\"exercise--title\">Setting up GridSearch parameters</h1><div class=\"\"><p>A hyperparameter is a parameter inside a function. For example, <code>max_depth</code> or <code>min_samples_leaf</code> are hyperparameters of the <code>DecisionTreeClassifier()</code> function. Hyperparameter tuning is the process of testing different values of hyperparameters to find the optimal ones: the one that gives the best predictions according to your objectives. In <code>sklearn</code>, you can use GridSearch to test different combinations of hyperparameters. Even better, you can use GridSearchCV() test different combinations and run cross-validation on them in one function!</p>\n",
    "<p>In this exercise, you are going to prepare the different values you want to test for <code>max_depth</code> and <code>min_samples_leaf</code>. You will then put these in a dictionary, because that’s what is required for <code>GridSearchCV()</code>:</p>\n",
    "<ul>\n",
    "<li>the dictionary keys will be the hyperparameters names</li>\n",
    "<li>the dictionary values will be the attributes (the hyperparameter values) you want to test</li>\n",
    "</ul>\n",
    "<p>Instead of writing all the values manually, you will use the <code>range()</code> function, which allows us to generate values incrementally. For example, <code>range(1, 10, 2)</code> will generate a list containing values ranging from 1 included to 10 not included, by increments of 2. So the final result will be <code>[1, 3, 5, 7, 9]</code>.</p></div></div>"
   ]
  },
  {
   "cell_type": "code",
   "execution_count": 26,
   "metadata": {},
   "outputs": [],
   "source": [
    "# Generate values for maximum depth\n",
    "depth = [i for i in range(5,21,1)]\n",
    "\n",
    "# Generate values for minimum sample size\n",
    "samples = [i for i in range(50,500,50)]\n",
    "\n",
    "# Create the dictionary with parameters to be checked\n",
    "parameters = dict(max_depth=depth, min_samples_leaf=samples)"
   ]
  },
  {
   "cell_type": "markdown",
   "metadata": {},
   "source": [
    "<p class=\"\">Your parameters are generated! In the next exercise, you will use the <code>parameters</code> dictionary you just generated to find their optimal combination.</p>"
   ]
  },
  {
   "cell_type": "markdown",
   "metadata": {},
   "source": [
    "<div class=\"exercise--assignment exercise--typography\"><h1 class=\"exercise--title\">Implementing GridSearch</h1><div class=\"\"><p>You can now use the <code>sklearn</code> <code>GridSearchCV()</code> function to find the best combination of all of the <code>max_depth</code> and <code>min_samples_leaf</code> values you generated in the previous exercise.</p></div></div>"
   ]
  },
  {
   "cell_type": "code",
   "execution_count": 27,
   "metadata": {},
   "outputs": [
    {
     "name": "stdout",
     "output_type": "stream",
     "text": [
      "{'max_depth': 5, 'min_samples_leaf': 50}\n"
     ]
    }
   ],
   "source": [
    "# import the GridSearchCV function\n",
    "from sklearn.model_selection import GridSearchCV\n",
    "\n",
    "# set up parameters: done\n",
    "parameters = dict(max_depth=depth, min_samples_leaf=samples)\n",
    "\n",
    "# initialize the param_search function using the GridSearchCV function, initial model and parameters above\n",
    "param_search = GridSearchCV(model, parameters)\n",
    "\n",
    "# fit the param_search to the training dataset\n",
    "param_search.fit(features_train, target_train)\n",
    "\n",
    "# print the best parameters found\n",
    "print(param_search.best_params_)"
   ]
  },
  {
   "cell_type": "markdown",
   "metadata": {},
   "source": [
    "<p class=\"\">It looks like the values that give you the best score are a minimum of samples per leaf of 100 and a maximum depth of 5.</p>"
   ]
  },
  {
   "cell_type": "markdown",
   "metadata": {},
   "source": [
    "<div class=\"exercise--assignment exercise--typography\"><h1 class=\"exercise--title\">Sorting important features</h1><div class=\"\"><p>Among other things, Decision Trees are very popular because of their interpretability. Many models can provide accurate predictions, but Decision Trees can also quantify the effect of the different features on the target. Here, it can tell you which features have the strongest and weakest impacts on the decision to leave the company. In <code>sklearn</code>, you can get this information by using the <code>feature_importances_</code> attribute.</p>\n",
    "<p>In this exercise, you're going to get the quantified importance of each feature, save them in a pandas DataFrame (a Pythonic table), and sort them from the most important to the less important. The <code>model_ best</code> Decision Tree Classifier used in the previous exercises is available in your workspace, as well as the <code>features_test</code>  and <code>features_train</code> variables.</p>\n",
    "<p><code>pandas</code> has been imported as <code>pd</code>.</p></div></div>"
   ]
  },
  {
   "cell_type": "code",
   "execution_count": 28,
   "metadata": {},
   "outputs": [
    {
     "data": {
      "text/html": [
       "<div>\n",
       "<style scoped>\n",
       "    .dataframe tbody tr th:only-of-type {\n",
       "        vertical-align: middle;\n",
       "    }\n",
       "\n",
       "    .dataframe tbody tr th {\n",
       "        vertical-align: top;\n",
       "    }\n",
       "\n",
       "    .dataframe thead th {\n",
       "        text-align: right;\n",
       "    }\n",
       "</style>\n",
       "<table border=\"1\" class=\"dataframe\">\n",
       "  <thead>\n",
       "    <tr style=\"text-align: right;\">\n",
       "      <th></th>\n",
       "      <th>importance</th>\n",
       "    </tr>\n",
       "  </thead>\n",
       "  <tbody>\n",
       "    <tr>\n",
       "      <th>satisfaction</th>\n",
       "      <td>0.499958</td>\n",
       "    </tr>\n",
       "    <tr>\n",
       "      <th>evaluation</th>\n",
       "      <td>0.153005</td>\n",
       "    </tr>\n",
       "    <tr>\n",
       "      <th>time_spend_company</th>\n",
       "      <td>0.139567</td>\n",
       "    </tr>\n",
       "    <tr>\n",
       "      <th>number_of_projects</th>\n",
       "      <td>0.098877</td>\n",
       "    </tr>\n",
       "    <tr>\n",
       "      <th>average_montly_hours</th>\n",
       "      <td>0.088262</td>\n",
       "    </tr>\n",
       "    <tr>\n",
       "      <th>salary</th>\n",
       "      <td>0.006250</td>\n",
       "    </tr>\n",
       "    <tr>\n",
       "      <th>technical</th>\n",
       "      <td>0.003929</td>\n",
       "    </tr>\n",
       "    <tr>\n",
       "      <th>support</th>\n",
       "      <td>0.002248</td>\n",
       "    </tr>\n",
       "    <tr>\n",
       "      <th>sales</th>\n",
       "      <td>0.001549</td>\n",
       "    </tr>\n",
       "    <tr>\n",
       "      <th>RandD</th>\n",
       "      <td>0.001415</td>\n",
       "    </tr>\n",
       "    <tr>\n",
       "      <th>work_accident</th>\n",
       "      <td>0.001316</td>\n",
       "    </tr>\n",
       "    <tr>\n",
       "      <th>management</th>\n",
       "      <td>0.001194</td>\n",
       "    </tr>\n",
       "    <tr>\n",
       "      <th>IT</th>\n",
       "      <td>0.000925</td>\n",
       "    </tr>\n",
       "    <tr>\n",
       "      <th>hr</th>\n",
       "      <td>0.000783</td>\n",
       "    </tr>\n",
       "    <tr>\n",
       "      <th>product_mng</th>\n",
       "      <td>0.000576</td>\n",
       "    </tr>\n",
       "    <tr>\n",
       "      <th>marketing</th>\n",
       "      <td>0.000129</td>\n",
       "    </tr>\n",
       "    <tr>\n",
       "      <th>promotion</th>\n",
       "      <td>0.000019</td>\n",
       "    </tr>\n",
       "  </tbody>\n",
       "</table>\n",
       "</div>"
      ],
      "text/plain": [
       "                      importance\n",
       "satisfaction            0.499958\n",
       "evaluation              0.153005\n",
       "time_spend_company      0.139567\n",
       "number_of_projects      0.098877\n",
       "average_montly_hours    0.088262\n",
       "salary                  0.006250\n",
       "technical               0.003929\n",
       "support                 0.002248\n",
       "sales                   0.001549\n",
       "RandD                   0.001415\n",
       "work_accident           0.001316\n",
       "management              0.001194\n",
       "IT                      0.000925\n",
       "hr                      0.000783\n",
       "product_mng             0.000576\n",
       "marketing               0.000129\n",
       "promotion               0.000019"
      ]
     },
     "execution_count": 28,
     "metadata": {},
     "output_type": "execute_result"
    }
   ],
   "source": [
    "# Calculate feature importances\n",
    "feature_importances = model.feature_importances_\n",
    "\n",
    "# Create a list of features: done\n",
    "feature_list = list(features)\n",
    "\n",
    "# Save the results inside a DataFrame using feature_list as an index\n",
    "relative_importances = pd.DataFrame(index=feature_list, data=feature_importances, columns=[\"importance\"])\n",
    "\n",
    "# Sort the DataFrame to learn most important features\n",
    "relative_importances.sort_values(by=\"importance\", ascending=False)"
   ]
  },
  {
   "cell_type": "markdown",
   "metadata": {},
   "source": [
    "<p class=\"\">It seems that satisfaction is by far the most impactful feature on the decision to leave the company or not.</p>"
   ]
  },
  {
   "cell_type": "markdown",
   "metadata": {},
   "source": [
    "<div class=\"exercise--assignment exercise--typography\"><h1 class=\"exercise--title\">Selecting important features</h1><div class=\"\"><p>In this exercise, your task is to select only the most important features that will be used by the final model. Remember, that the relative importances are saved in the column <code>importance</code> of the DataFrame called <code>relative_importances</code>.</p></div></div>"
   ]
  },
  {
   "cell_type": "code",
   "execution_count": 29,
   "metadata": {},
   "outputs": [],
   "source": [
    "# select only features with relative importance higher than 1%\n",
    "selected_features = relative_importances[relative_importances.importance>0.01]\n",
    "\n",
    "# create a list from those features: done\n",
    "selected_list = selected_features.index\n",
    "\n",
    "# transform both features_train and features_test components to include only selected features\n",
    "features_train_selected = features_train[selected_list]\n",
    "features_test_selected = features_test[selected_list]"
   ]
  },
  {
   "cell_type": "markdown",
   "metadata": {},
   "source": [
    "<p class=\"\">As you can see, only 5 features have been retained out of the 17 original ones: <code>['satisfaction', 'evaluation', 'number_of_projects', 'average_montly_hours', 'time_spend_company']</code>. You’ve made sure to keep only these in your training and testing sets.</p>"
   ]
  },
  {
   "cell_type": "markdown",
   "metadata": {},
   "source": [
    "<div class=\"exercise--assignment exercise--typography\"><h1 class=\"exercise--title\">Develop and test the best model</h1><div class=\"\"><p>In Chapter 3, you found out that the following parameters allow you to get better model:</p>\n",
    "<ul>\n",
    "<li><code>max_depth = 8</code>,</li>\n",
    "<li><code>min_samples_leaf = 150</code>,</li>\n",
    "<li><code>class_weight = \"balanced\"</code></li>\n",
    "</ul>\n",
    "<p>In this chapter, you discovered that some of the features have a negligible impact. You realized that you could get accurate predictions using just a small number of selected, impactful features and you updated your training and testing set accordingly, creating the variables <code>features_train_selected</code> and <code>features_test_selected</code>.</p>\n",
    "<p>With all this information at your disposal, you're now going to develop the best model for predicting employee turnover and evaluate it using the appropriate metrics.</p>\n",
    "<p>The <code>features_train_selected</code> and <code>features_test_selected</code> variables are available in your workspace, and the <code>recall_score</code> and <code>roc_auc_score</code> functions have been imported for you.</p></div></div>"
   ]
  },
  {
   "cell_type": "code",
   "execution_count": 30,
   "metadata": {},
   "outputs": [
    {
     "name": "stdout",
     "output_type": "stream",
     "text": [
      "95.28\n",
      "91.75027870680044\n",
      "94.07002193314084\n"
     ]
    }
   ],
   "source": [
    "# Initialize the best model using parameters provided in description\n",
    "model_best = DecisionTreeClassifier(max_depth=8, min_samples_leaf=150, class_weight=\"balanced\", random_state=42)\n",
    "\n",
    "# Fit the model using only selected features from training set: done\n",
    "model_best.fit(features_train_selected, target_train)\n",
    "\n",
    "# Make prediction based on selected list of features from test set\n",
    "prediction_best = model_best.predict(features_test_selected)\n",
    "\n",
    "# Print the general accuracy of the model_best\n",
    "print(model_best.score(features_test_selected, target_test) * 100)\n",
    "\n",
    "# Print the recall score of the model predictions\n",
    "print(recall_score(target_test, prediction_best) * 100)\n",
    "\n",
    "# Print the ROC/AUC score of the model predictions\n",
    "print(roc_auc_score(target_test, prediction_best) * 100)"
   ]
  },
  {
   "cell_type": "code",
   "execution_count": null,
   "metadata": {},
   "outputs": [],
   "source": []
  }
 ],
 "metadata": {
  "kernelspec": {
   "display_name": "Python 3",
   "language": "python",
   "name": "python3"
  },
  "language_info": {
   "codemirror_mode": {
    "name": "ipython",
    "version": 3
   },
   "file_extension": ".py",
   "mimetype": "text/x-python",
   "name": "python",
   "nbconvert_exporter": "python",
   "pygments_lexer": "ipython3",
   "version": "3.8.3"
  }
 },
 "nbformat": 4,
 "nbformat_minor": 4
}
